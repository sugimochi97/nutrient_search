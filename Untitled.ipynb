{
 "cells": [
  {
   "cell_type": "markdown",
   "id": "0e90a431-4270-4205-ab06-cc21c01a5e77",
   "metadata": {},
   "source": [
    "# あすけんの体重データをコピペして貼り付けると一か月の体重推移をグラフにする"
   ]
  },
  {
   "cell_type": "code",
   "execution_count": 136,
   "id": "32c1b06f-20ca-4557-a519-ebe7de7d03f2",
   "metadata": {},
   "outputs": [
    {
     "name": "stdout",
     "output_type": "stream",
     "text": [
      "/c/Users/tashi/Programming/nutrient_search\n"
     ]
    }
   ],
   "source": [
    "!pwd"
   ]
  },
  {
   "cell_type": "code",
   "execution_count": 114,
   "id": "f19f5622-0938-4d45-b55a-8c0f47f1418f",
   "metadata": {},
   "outputs": [],
   "source": [
    "import re\n",
    "import pandas as pd\n",
    "import matplotlib.pyplot as plt\n",
    "import japanize_matplotlib"
   ]
  },
  {
   "cell_type": "code",
   "execution_count": 120,
   "id": "e4ca29c9-8a04-4835-9692-83e0d4bca020",
   "metadata": {},
   "outputs": [],
   "source": [
    "log = \"\"\"1(火)-診断前\n",
    " \n",
    "2(水)-診断前\n",
    " \n",
    "3(木)-診断前\n",
    " \n",
    "4(金)-診断前\n",
    " \n",
    "5(土)65.9kg49点\n",
    " \n",
    "6(日)-診断前\n",
    " \n",
    "7(月)65.3kg65点\n",
    " \n",
    "8(火)65.3kg55点\n",
    " \n",
    "9(水)64.9kg67点\n",
    " \n",
    "10(木)65.4kg82点\n",
    " \n",
    "11(金)66.2kg75点\n",
    " \n",
    "12(土)64.4kg61点\n",
    " \n",
    "13(日)65.6kg84点\n",
    " \n",
    "14(月)66.1kg50点\n",
    " \n",
    "15(火)-診断前\n",
    " \n",
    "16(水)-72点\n",
    " \n",
    "17(木)-94点\n",
    " \n",
    "18(金)-59点\n",
    " \n",
    "19(土)64.8kg80点\n",
    " \n",
    "20(日)65.1kg30点\n",
    " \n",
    "21(月)64.9kg67点\n",
    " \n",
    "22(火)65.1kg71点\n",
    " \n",
    "23(水)65.3kg59点\n",
    " \n",
    "24(木)65.6kg56点\n",
    " \n",
    "25(金)63.9kg69点\n",
    " \n",
    "26(土)64.8kg54点\n",
    " \n",
    "27(日)65.9kg30点\n",
    " \n",
    "28(月)64.4kg60点\n",
    " \n",
    "29(火)65.4kg64点\n",
    " \n",
    "30(水)65kg診断前\n",
    " \n",
    "31(木)  \"\"\"\n",
    "\n",
    "log = log.split(\"\\n \\n\")\n",
    "\n",
    "log = [i.replace(re.search(\".\\)\", i).group(), \"\") for i in log]\n",
    "\n",
    "log = [i.replace(\"診断前\", \"\") for i in log]\n",
    "\n",
    "log = [i.replace(re.search(\"\\d*点\", i).group(), \"\") if re.search(\"\\d*点\", i) is not None else i for i in log]\n",
    "\n",
    "log = [i.replace(\"-\", \"\") for i in log]\n",
    "\n",
    "log = [i.replace(\"  \", \"\") for i in log]\n",
    "\n",
    "log = [i.replace(\"kg\", \"\") for i in log]\n",
    "\n",
    "log = [i.split(\"(\") for i in log]\n",
    "\n",
    "is_not_start = True\n",
    "start_index = 0\n",
    "before_weight = 0\n",
    "\n",
    "for i in range(len(log)):\n",
    "    if log[i][1] != \"\" and is_not_start:\n",
    "        start_index = i\n",
    "        is_not_start = False\n",
    "    else:\n",
    "        pass\n",
    "    if log[i][1] != \"\":\n",
    "        before_weight = float(log[i][1])\n",
    "        log[i][1] = before_weight\n",
    "    else:\n",
    "        log[i][1] = before_weight\n",
    "\n",
    "log = [[int(i[0]),i[1]] for i in log]\n",
    "\n",
    "df = pd.DataFrame(log, columns=[\"日付\", \"体重\"])\n",
    "\n",
    "df = df.iloc[start_index:]\n",
    "\n",
    "df = df.set_index(\"日付\")"
   ]
  },
  {
   "cell_type": "code",
   "execution_count": 121,
   "id": "8c72275e-9dd8-4fd9-821f-29ba80cb5b1e",
   "metadata": {},
   "outputs": [
    {
     "data": {
      "text/html": [
       "<div>\n",
       "<style scoped>\n",
       "    .dataframe tbody tr th:only-of-type {\n",
       "        vertical-align: middle;\n",
       "    }\n",
       "\n",
       "    .dataframe tbody tr th {\n",
       "        vertical-align: top;\n",
       "    }\n",
       "\n",
       "    .dataframe thead th {\n",
       "        text-align: right;\n",
       "    }\n",
       "</style>\n",
       "<table border=\"1\" class=\"dataframe\">\n",
       "  <thead>\n",
       "    <tr style=\"text-align: right;\">\n",
       "      <th></th>\n",
       "      <th>体重</th>\n",
       "    </tr>\n",
       "    <tr>\n",
       "      <th>日付</th>\n",
       "      <th></th>\n",
       "    </tr>\n",
       "  </thead>\n",
       "  <tbody>\n",
       "    <tr>\n",
       "      <th>5</th>\n",
       "      <td>65.9</td>\n",
       "    </tr>\n",
       "    <tr>\n",
       "      <th>6</th>\n",
       "      <td>65.9</td>\n",
       "    </tr>\n",
       "    <tr>\n",
       "      <th>7</th>\n",
       "      <td>65.3</td>\n",
       "    </tr>\n",
       "    <tr>\n",
       "      <th>8</th>\n",
       "      <td>65.3</td>\n",
       "    </tr>\n",
       "    <tr>\n",
       "      <th>9</th>\n",
       "      <td>64.9</td>\n",
       "    </tr>\n",
       "    <tr>\n",
       "      <th>10</th>\n",
       "      <td>65.4</td>\n",
       "    </tr>\n",
       "    <tr>\n",
       "      <th>11</th>\n",
       "      <td>66.2</td>\n",
       "    </tr>\n",
       "    <tr>\n",
       "      <th>12</th>\n",
       "      <td>64.4</td>\n",
       "    </tr>\n",
       "    <tr>\n",
       "      <th>13</th>\n",
       "      <td>65.6</td>\n",
       "    </tr>\n",
       "    <tr>\n",
       "      <th>14</th>\n",
       "      <td>66.1</td>\n",
       "    </tr>\n",
       "    <tr>\n",
       "      <th>15</th>\n",
       "      <td>66.1</td>\n",
       "    </tr>\n",
       "    <tr>\n",
       "      <th>16</th>\n",
       "      <td>66.1</td>\n",
       "    </tr>\n",
       "    <tr>\n",
       "      <th>17</th>\n",
       "      <td>66.1</td>\n",
       "    </tr>\n",
       "    <tr>\n",
       "      <th>18</th>\n",
       "      <td>66.1</td>\n",
       "    </tr>\n",
       "    <tr>\n",
       "      <th>19</th>\n",
       "      <td>64.8</td>\n",
       "    </tr>\n",
       "    <tr>\n",
       "      <th>20</th>\n",
       "      <td>65.1</td>\n",
       "    </tr>\n",
       "    <tr>\n",
       "      <th>21</th>\n",
       "      <td>64.9</td>\n",
       "    </tr>\n",
       "    <tr>\n",
       "      <th>22</th>\n",
       "      <td>65.1</td>\n",
       "    </tr>\n",
       "    <tr>\n",
       "      <th>23</th>\n",
       "      <td>65.3</td>\n",
       "    </tr>\n",
       "    <tr>\n",
       "      <th>24</th>\n",
       "      <td>65.6</td>\n",
       "    </tr>\n",
       "    <tr>\n",
       "      <th>25</th>\n",
       "      <td>63.9</td>\n",
       "    </tr>\n",
       "    <tr>\n",
       "      <th>26</th>\n",
       "      <td>64.8</td>\n",
       "    </tr>\n",
       "    <tr>\n",
       "      <th>27</th>\n",
       "      <td>65.9</td>\n",
       "    </tr>\n",
       "    <tr>\n",
       "      <th>28</th>\n",
       "      <td>64.4</td>\n",
       "    </tr>\n",
       "    <tr>\n",
       "      <th>29</th>\n",
       "      <td>65.4</td>\n",
       "    </tr>\n",
       "    <tr>\n",
       "      <th>30</th>\n",
       "      <td>65.0</td>\n",
       "    </tr>\n",
       "    <tr>\n",
       "      <th>31</th>\n",
       "      <td>65.0</td>\n",
       "    </tr>\n",
       "  </tbody>\n",
       "</table>\n",
       "</div>"
      ],
      "text/plain": [
       "      体重\n",
       "日付      \n",
       "5   65.9\n",
       "6   65.9\n",
       "7   65.3\n",
       "8   65.3\n",
       "9   64.9\n",
       "10  65.4\n",
       "11  66.2\n",
       "12  64.4\n",
       "13  65.6\n",
       "14  66.1\n",
       "15  66.1\n",
       "16  66.1\n",
       "17  66.1\n",
       "18  66.1\n",
       "19  64.8\n",
       "20  65.1\n",
       "21  64.9\n",
       "22  65.1\n",
       "23  65.3\n",
       "24  65.6\n",
       "25  63.9\n",
       "26  64.8\n",
       "27  65.9\n",
       "28  64.4\n",
       "29  65.4\n",
       "30  65.0\n",
       "31  65.0"
      ]
     },
     "execution_count": 121,
     "metadata": {},
     "output_type": "execute_result"
    }
   ],
   "source": [
    "df"
   ]
  },
  {
   "cell_type": "code",
   "execution_count": 129,
   "id": "26cb1b56-3c2b-4095-95ea-177b536ca581",
   "metadata": {},
   "outputs": [],
   "source": [
    "mx = df.index.to_numpy().mean()\n",
    "my = df[\"体重\"].mean()\n",
    "mxx = (df[\"体重\"]*df[\"体重\"]).mean()\n",
    "mxy = (df.index.to_numpy()*df[\"体重\"].to_numpy()).mean()\n",
    "a = (mxy- mx*my)/(mxx - mx**2)\n",
    "b = my - a*mx"
   ]
  },
  {
   "cell_type": "code",
   "execution_count": 133,
   "id": "b218f977-c3dd-4afe-ade7-2d10ad8c60b3",
   "metadata": {},
   "outputs": [
    {
     "data": {
      "text/plain": [
       "[<matplotlib.lines.Line2D at 0x26bf7991a20>]"
      ]
     },
     "execution_count": 133,
     "metadata": {},
     "output_type": "execute_result"
    },
    {
     "data": {
      "image/png": "[encoded data removed]",
      "text/plain": [
       "<Figure size 640x480 with 1 Axes>"
      ]
     },
     "metadata": {},
     "output_type": "display_data"
    }
   ],
   "source": [
    "plt.scatter(df.index, df[\"体重\"])\n",
    "plt.plot(df.index, a*df.index.to_numpy()+b)"
   ]
  },
  {
   "cell_type": "markdown",
   "id": "da3a5440-cc93-4fce-b818-9e82e8df6745",
   "metadata": {},
   "source": [
    "- 傾きaがマイナスなら下がってる"
   ]
  },
  {
   "cell_type": "code",
   "execution_count": 135,
   "id": "399fa76b-1451-468a-b5d9-4a31268927a6",
   "metadata": {},
   "outputs": [
    {
     "data": {
      "text/plain": [
       "-0.0004456399896875026"
      ]
     },
     "execution_count": 135,
     "metadata": {},
     "output_type": "execute_result"
    }
   ],
   "source": [
    "a"
   ]
  },
  {
   "cell_type": "code",
   "execution_count": null,
   "id": "57e7711f-14d1-43fe-9a7f-a9b4e4444e95",
   "metadata": {},
   "outputs": [],
   "source": []
  }
 ],
 "metadata": {
  "kernelspec": {
   "display_name": "Python 3 (ipykernel)",
   "language": "python",
   "name": "python3"
  },
  "language_info": {
   "codemirror_mode": {
    "name": "ipython",
    "version": 3
   },
   "file_extension": ".py",
   "mimetype": "text/x-python",
   "name": "python",
   "nbconvert_exporter": "python",
   "pygments_lexer": "ipython3",
   "version": "3.10.9"
  }
 },
 "nbformat": 4,
 "nbformat_minor": 5
}
